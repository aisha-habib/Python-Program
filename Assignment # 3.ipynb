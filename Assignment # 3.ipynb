{
 "cells": [
  {
   "cell_type": "code",
   "execution_count": 1,
   "id": "84041afe",
   "metadata": {},
   "outputs": [
    {
     "name": "stdout",
     "output_type": "stream",
     "text": [
      "Twinkle, twinkle, little star,\n",
      "\tHow I wonder what you are!\n",
      "\t \t Up above the world so high,\n",
      "\t \t Like a diamond in the sky.\n",
      "Twinkle, twinkle, little star,\n",
      "\tHow I wonder what you are\n"
     ]
    }
   ],
   "source": [
    "\"\"\"1. Write a Python program to print the following string in a specific format (see the output).\n",
    "Twinkle, twinkle, little star,\n",
    "     How I wonder what you are!\n",
    "            Up above the world so high,\n",
    "            Like a diamond in the sky.\n",
    "Twinkle, twinkle, little star,\n",
    "     How I wonder what you are\"\"\"\n",
    "\n",
    "print(\"Twinkle, twinkle, little star,\");\n",
    "print(\"\\tHow I wonder what you are!\");\n",
    "print(\"\\t \\t Up above the world so high,\");\n",
    "print(\"\\t \\t Like a diamond in the sky.\");\n",
    "print(\"Twinkle, twinkle, little star,\");\n",
    "print(\"\\tHow I wonder what you are\");"
   ]
  },
  {
   "cell_type": "code",
   "execution_count": 2,
   "id": "9ad9a758",
   "metadata": {},
   "outputs": [
    {
     "name": "stdout",
     "output_type": "stream",
     "text": [
      "My Python Version:\n",
      "\n",
      "3.8.8 (default, Apr 13 2021, 15:08:03) [MSC v.1916 64 bit (AMD64)]\n"
     ]
    }
   ],
   "source": [
    "# 2. Write a Python program to get the Python version you are using\n",
    "\n",
    "import sys\n",
    "print(\"My Python Version:\\n\");\n",
    "print(sys.version);"
   ]
  },
  {
   "cell_type": "code",
   "execution_count": 3,
   "id": "dc1982ed",
   "metadata": {},
   "outputs": [
    {
     "name": "stdout",
     "output_type": "stream",
     "text": [
      "Current date & time: \n",
      "2021-10-22 20:42:20\n"
     ]
    }
   ],
   "source": [
    "# 3. Write a Python program to display the current date and time\n",
    "\n",
    "import datetime\n",
    "now = datetime.datetime.now();\n",
    "print (\"Current date & time: \");\n",
    "print (now.strftime(\"%Y-%m-%d %H:%M:%S\"));"
   ]
  },
  {
   "cell_type": "code",
   "execution_count": 4,
   "id": "0d902df8",
   "metadata": {},
   "outputs": [
    {
     "name": "stdout",
     "output_type": "stream",
     "text": [
      "Input the radius of the circle: 2.0\n",
      "Area of the circle with radius 2.0 is= 12.566370614359172\n"
     ]
    }
   ],
   "source": [
    "# 4. Write a Python program which accepts the radius of a circle from the user and compute the area\n",
    "\n",
    "from math import pi\n",
    "r= float(input(\"Input the radius of the circle: \"));\n",
    "print(\"Area of the circle with radius \"+str(r)+\" is= \"+str(pi*r**2));"
   ]
  },
  {
   "cell_type": "code",
   "execution_count": 5,
   "id": "821b6f6a",
   "metadata": {},
   "outputs": [
    {
     "name": "stdout",
     "output_type": "stream",
     "text": [
      "Input your first name : Aisha\n",
      "Input your last name : Habib\n",
      "Hey Habib Aisha\n"
     ]
    }
   ],
   "source": [
    "\"\"\"5. Write a Python program which accepts the user's first and last name and print them in\n",
    "reverse order with a space between them.\"\"\"\n",
    "\n",
    "firstName = input(\"Input your first name : \");\n",
    "lastName = input(\"Input your last name : \");\n",
    "print (\"Hey \"+ lastName +\" \"+ firstName);"
   ]
  },
  {
   "cell_type": "code",
   "execution_count": 9,
   "id": "1dd69702",
   "metadata": {},
   "outputs": [
    {
     "name": "stdout",
     "output_type": "stream",
     "text": [
      "Enter the first no: 31\n",
      "Enter the second no: 9\n",
      "40\n"
     ]
    }
   ],
   "source": [
    "# 6. Write a python program which takes two inputs from user and print their addition\n",
    "\n",
    "a = int(input(\"Enter the first no: \"));\n",
    "b = int(input(\"Enter the second no: \"));\n",
    "sum = a+b;\n",
    "print(sum);"
   ]
  },
  {
   "cell_type": "code",
   "execution_count": 12,
   "id": "09807c25",
   "metadata": {},
   "outputs": [
    {
     "name": "stdout",
     "output_type": "stream",
     "text": [
      "Enter the marks in English: 93\n",
      "Enter the marks in Math: 95\n",
      "Enter the marks in Islamiyat: 85\n",
      "Enter the marks in Physics: 87\n",
      "Enter the marks in Chemistry: 89\n",
      "A+\n"
     ]
    }
   ],
   "source": [
    "\"\"\" 7. Write a program which takes 5 inputs from user for different subjects marks, total it\n",
    "and generate mark sheet using grades ?\"\"\"\n",
    "\n",
    "eng = int(input(\"Enter the marks in English: \"));\n",
    "math = int(input(\"Enter the marks in Math: \"));\n",
    "isl = int(input(\"Enter the marks in Islamiyat: \"));\n",
    "phy = int(input(\"Enter the marks in Physics: \"));\n",
    "chem = int(input(\"Enter the marks in Chemistry: \"));\n",
    "obt_marks = eng+math+isl+phy+chem;\n",
    "total_marks = 500;\n",
    "percent = obt_marks/total_marks*100;\n",
    "\n",
    "if percent<100 and percent>=80:\n",
    "    print(\"A+\");\n",
    "elif percent<80 and percent>=70:\n",
    "    print(\"A\");\n",
    "elif percent<70 and percent>=60:\n",
    "    print(\"B+\");\n",
    "elif percent<60 and percent>=50:\n",
    "    print(\"B\");\n",
    "elif percent<50 and percent>=40:\n",
    "    print(\"C+\");\n",
    "elif percent<40 and percent>=33:\n",
    "    print(\"C\");\n",
    "elif percent<0 and percent>100:\n",
    "    print(\"You have entered invalid marks!\");\n",
    "else:\n",
    "    print(\"FAIL\");"
   ]
  },
  {
   "cell_type": "code",
   "execution_count": 14,
   "id": "b494ad28",
   "metadata": {},
   "outputs": [
    {
     "name": "stdout",
     "output_type": "stream",
     "text": [
      "Enter the number: 87\n",
      "This is an odd number!\n"
     ]
    }
   ],
   "source": [
    "# 8. Write a program which take input from user and identify that the given number is even or odd?\n",
    "\n",
    "a = float(input(\"Enter the number: \"));\n",
    "mod = a%2 \n",
    "if mod>0: \n",
    "    print(\"This is an odd number!\");\n",
    "else: \n",
    "    print(\"This is an even number!\");"
   ]
  },
  {
   "cell_type": "code",
   "execution_count": 15,
   "id": "3099d1de",
   "metadata": {},
   "outputs": [
    {
     "name": "stdout",
     "output_type": "stream",
     "text": [
      "Length of list =  4\n"
     ]
    }
   ],
   "source": [
    "# 9. Write a program which print the length of the list?\n",
    "\n",
    "list = [\"Hello\", \"Aisha\", 0, 2];\n",
    "print (\"Length of list = \", len(list));\n"
   ]
  },
  {
   "cell_type": "code",
   "execution_count": 35,
   "id": "438a4f78",
   "metadata": {},
   "outputs": [
    {
     "name": "stdout",
     "output_type": "stream",
     "text": [
      "5\n"
     ]
    }
   ],
   "source": [
    "# 10. Write a Python program to sum all the numeric items in a list?\n",
    "\n",
    "def s_list(items):\n",
    "    s_numbers = 0;\n",
    "    for x in items:\n",
    "        s_numbers += x;\n",
    "    return s_numbers;\n",
    "print(s_list([10,3,-8]));\n"
   ]
  },
  {
   "cell_type": "code",
   "execution_count": 37,
   "id": "9aed819e",
   "metadata": {},
   "outputs": [
    {
     "name": "stdout",
     "output_type": "stream",
     "text": [
      "10\n"
     ]
    }
   ],
   "source": [
    "# 11. Write a Python program to get the largest number from a numeric list\n",
    "\n",
    "def max_num(list):\n",
    "    max = list[0];\n",
    "    for a in list:\n",
    "        if a>max:\n",
    "            max = a;\n",
    "    return max;\n",
    "print(max_num([10, -200, 8, 2]));"
   ]
  },
  {
   "cell_type": "code",
   "execution_count": 42,
   "id": "afe15518",
   "metadata": {},
   "outputs": [
    {
     "name": "stdout",
     "output_type": "stream",
     "text": [
      "1\n",
      "1\n",
      "2\n",
      "3\n"
     ]
    }
   ],
   "source": [
    "\"\"\" 12. Take a list, say for example this one:\n",
    "a = [1, 1, 2, 3, 5, 8, 13, 21, 34, 55, 89]\n",
    "Write a program that prints out all the elements of the list that are less than 5\"\"\"\n",
    "\n",
    "x = [1, 1, 2, 3, 5, 8, 13, 21, 34, 55, 89];\n",
    "for i in x:\n",
    "    if i < 5:\n",
    "        print(i);"
   ]
  },
  {
   "cell_type": "code",
   "execution_count": null,
   "id": "e7ef32b0",
   "metadata": {},
   "outputs": [],
   "source": []
  }
 ],
 "metadata": {
  "kernelspec": {
   "display_name": "Python 3",
   "language": "python",
   "name": "python3"
  },
  "language_info": {
   "codemirror_mode": {
    "name": "ipython",
    "version": 3
   },
   "file_extension": ".py",
   "mimetype": "text/x-python",
   "name": "python",
   "nbconvert_exporter": "python",
   "pygments_lexer": "ipython3",
   "version": "3.8.8"
  }
 },
 "nbformat": 4,
 "nbformat_minor": 5
}
